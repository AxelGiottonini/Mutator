{
 "cells": [
  {
   "cell_type": "code",
   "execution_count": 18,
   "metadata": {},
   "outputs": [],
   "source": [
    "import torch\n",
    "from src import Mutator, get_model, get_dataloaders, perplexity"
   ]
  },
  {
   "cell_type": "code",
   "execution_count": 33,
   "metadata": {},
   "outputs": [
    {
     "name": "stderr",
     "output_type": "stream",
     "text": [
      "Some weights of the model checkpoint at Rostlab/prot_bert_bfd were not used when initializing BertForMaskedLM: ['cls.seq_relationship.bias', 'cls.seq_relationship.weight']\n",
      "- This IS expected if you are initializing BertForMaskedLM from the checkpoint of a model trained on another task or with another architecture (e.g. initializing a BertForSequenceClassification model from a BertForPreTraining model).\n",
      "- This IS NOT expected if you are initializing BertForMaskedLM from the checkpoint of a model that you expect to be exactly identical (initializing a BertForSequenceClassification model from a BertForSequenceClassification model).\n"
     ]
    }
   ],
   "source": [
    "args = {\n",
    "    \"from_tokenizer\": \"Rostlab/prot_bert_bfd\",\n",
    "    \"from_model\": \"Rostlab/prot_bert_bfd\",\n",
    "    \"from_adapters\": \"./models/hps/LR0.001_BS256_P0.05/best/\",\n",
    "    \"set\": \"./data/non_thermo.csv\",\n",
    "    \"min_length\": None,\n",
    "    \"max_length\": None,\n",
    "    \"global_batch_size\": 512,\n",
    "    \"local_batch_size\": 128,\n",
    "    \"num_workers\": 8,\n",
    "    \"mask\": False,\n",
    "    \"p\": 0,\n",
    "    \"n_epochs\": 10\n",
    "}\n",
    "\n",
    "model = get_model(args)\n",
    "dataloader, tokenizer = get_dataloaders(args, get_training_and_validation=False, get_tokenizer=True)\n",
    "Mutator.configure(model, tokenizer, 3, 3, 0.1)\n",
    "mutator = Mutator()"
   ]
  },
  {
   "cell_type": "code",
   "execution_count": 36,
   "metadata": {},
   "outputs": [
    {
     "name": "stdout",
     "output_type": "stream",
     "text": [
      "tensor([1.9203])\n",
      "MVMLMWAYLSLLVRKDSQHDCRRTKEGNSREETSRGSCRDSGTDTTGRRGEGSARGKEKEAQPLFQCR\n",
      "tensor([1.8621])\n",
      "MKMLMWAYLSLLVRKDSQHDSRRTKEGNSREETSRGSCRDSGTDTTGRRGEGSARGKEKEAQPLFQCR\n",
      "tensor([1.8599])\n",
      "MKMLMWAYLSLLVRKDSQHDSRRTKEGNSREETSRGSCRDSGTGTTGRRGEGSARGKEKEAQPLFQCR\n",
      "tensor([1.8417])\n",
      "MKMLMWAYLSLLVRKDSSHDSRRTKEGNSREETSRGSCRDSGTGTTGRRGEGSARGKEKEAQPLFQRR\n",
      "tensor([1.9013])\n",
      "MKMLMWAYLSLLVRRDSSHDSRRTKEGNSREETSRGSCRGSGTGTTGRRGEGSARGKEKEAQPLFQRR\n"
     ]
    }
   ],
   "source": [
    "sequence = \"MVMLMWAYLSLLVRKDSQHDCRRTKEGNSREETSVGVCRDSGTDTTGRRGEGSARGKEKEAQPLFQCR\"\n",
    "tokens = tokenizer([' '.join(list(sequence))], return_tensors=\"pt\")\n",
    "input_ids, attention_mask = tokens.input_ids, tokens.attention_mask\n",
    "\n",
    "for i in range(5):\n",
    "    print(perplexity(model, input_ids, attention_mask=attention_mask))\n",
    "    out = mutator(input_ids=input_ids, attention_mask=attention_mask)\n",
    "    for el in tokenizer.batch_decode(out.mutated_ids, skip_special_tokens=True):\n",
    "        print(el.replace(\" \", \"\"))\n",
    "    input_ids = out.mutated_ids"
   ]
  }
 ],
 "metadata": {
  "kernelspec": {
   "display_name": "mes2therm",
   "language": "python",
   "name": "python3"
  },
  "language_info": {
   "codemirror_mode": {
    "name": "ipython",
    "version": 3
   },
   "file_extension": ".py",
   "mimetype": "text/x-python",
   "name": "python",
   "nbconvert_exporter": "python",
   "pygments_lexer": "ipython3",
   "version": "3.9.16"
  },
  "orig_nbformat": 4
 },
 "nbformat": 4,
 "nbformat_minor": 2
}
